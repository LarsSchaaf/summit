{
 "cells": [
  {
   "cell_type": "code",
   "execution_count": 1,
   "id": "16a0d36c-5a7b-446a-a6c5-4a21be5d512e",
   "metadata": {},
   "outputs": [],
   "source": [
    "%load_ext autoreload\n",
    "%autoreload 2"
   ]
  },
  {
   "cell_type": "code",
   "execution_count": 2,
   "id": "fbd78030-94eb-40b8-a652-c973bea8a6ed",
   "metadata": {},
   "outputs": [
    {
     "name": "stderr",
     "output_type": "stream",
     "text": [
      "/Users/Kobi/Library/Caches/pypoetry/virtualenvs/summit-TfmmV07p-py3.8/lib/python3.8/site-packages/tqdm/auto.py:22: TqdmWarning: IProgress not found. Please update jupyter and ipywidgets. See https://ipywidgets.readthedocs.io/en/stable/user_install.html\n",
      "  from .autonotebook import tqdm as notebook_tqdm\n"
     ]
    }
   ],
   "source": [
    "from summit import *\n",
    "import matplotlib.pyplot as plt"
   ]
  },
  {
   "cell_type": "code",
   "execution_count": 17,
   "id": "1c7a3b89-2c47-4051-a043-be5a1a67883e",
   "metadata": {},
   "outputs": [],
   "source": [
    "max_num_exp=50\n",
    "batch_size=5\n",
    "maximize=True\n",
    "constraint=False\n",
    "plot=True"
   ]
  },
  {
   "cell_type": "markdown",
   "id": "e95148b8-f885-4000-b92c-07f47fac40d4",
   "metadata": {},
   "source": [
    "Remember to change spectral samples back to 1500"
   ]
  },
  {
   "cell_type": "code",
   "execution_count": 20,
   "id": "388d5543-e4b6-4ef2-93d1-57a5ad1d6596",
   "metadata": {
    "scrolled": true,
    "tags": []
   },
   "outputs": [
    {
     "data": {
      "text/html": [
       "\n",
       "    <div>\n",
       "        <style>\n",
       "            /* Turns off some styling */\n",
       "            progress {\n",
       "                /* gets rid of default border in Firefox and Opera. */\n",
       "                border: none;\n",
       "                /* Needs to be in here for Safari polyfill so background images work as expected. */\n",
       "                background-size: auto;\n",
       "            }\n",
       "            .progress-bar-interrupted, .progress-bar-interrupted::-webkit-progress-bar {\n",
       "                background: #F44336;\n",
       "            }\n",
       "        </style>\n",
       "      <progress value='10' class='' max='10' style='width:300px; height:20px; vertical-align: middle;'></progress>\n",
       "      100.00% [10/10 00:25<00:00]\n",
       "    </div>\n",
       "    "
      ],
      "text/plain": [
       "<IPython.core.display.HTML object>"
      ]
     },
     "metadata": {},
     "output_type": "display_data"
    },
    {
     "name": "stderr",
     "output_type": "stream",
     "text": [
      "/Users/Kobi/Documents/Research/summit/summit/experiment.py:92: FutureWarning: The frame.append method is deprecated and will be removed from pandas in a future version. Use pandas.concat instead.\n",
      "  self._data = self._data.append(res)\n",
      "/Users/Kobi/Documents/Research/summit/summit/experiment.py:92: FutureWarning: The frame.append method is deprecated and will be removed from pandas in a future version. Use pandas.concat instead.\n",
      "  self._data = self._data.append(res)\n",
      "/Users/Kobi/Documents/Research/summit/summit/experiment.py:92: FutureWarning: The frame.append method is deprecated and will be removed from pandas in a future version. Use pandas.concat instead.\n",
      "  self._data = self._data.append(res)\n",
      "/Users/Kobi/Documents/Research/summit/summit/experiment.py:92: FutureWarning: The frame.append method is deprecated and will be removed from pandas in a future version. Use pandas.concat instead.\n",
      "  self._data = self._data.append(res)\n",
      "/Users/Kobi/Documents/Research/summit/summit/experiment.py:92: FutureWarning: The frame.append method is deprecated and will be removed from pandas in a future version. Use pandas.concat instead.\n",
      "  self._data = self._data.append(res)\n",
      "/Users/Kobi/Documents/Research/summit/summit/experiment.py:92: FutureWarning: The frame.append method is deprecated and will be removed from pandas in a future version. Use pandas.concat instead.\n",
      "  self._data = self._data.append(res)\n",
      "/Users/Kobi/Documents/Research/summit/summit/experiment.py:92: FutureWarning: The frame.append method is deprecated and will be removed from pandas in a future version. Use pandas.concat instead.\n",
      "  self._data = self._data.append(res)\n",
      "/Users/Kobi/Documents/Research/summit/summit/experiment.py:92: FutureWarning: The frame.append method is deprecated and will be removed from pandas in a future version. Use pandas.concat instead.\n",
      "  self._data = self._data.append(res)\n",
      "/Users/Kobi/Documents/Research/summit/summit/experiment.py:92: FutureWarning: The frame.append method is deprecated and will be removed from pandas in a future version. Use pandas.concat instead.\n",
      "  self._data = self._data.append(res)\n",
      "/Users/Kobi/Documents/Research/summit/summit/experiment.py:92: FutureWarning: The frame.append method is deprecated and will be removed from pandas in a future version. Use pandas.concat instead.\n",
      "  self._data = self._data.append(res)\n",
      "/Users/Kobi/Documents/Research/summit/summit/strategies/cbbo.py:92: FutureWarning: The frame.append method is deprecated and will be removed from pandas in a future version. Use pandas.concat instead.\n",
      "  conditions = lhs.suggest_experiments(k)\n",
      "/Users/Kobi/Documents/Research/summit/summit/experiment.py:92: FutureWarning: The frame.append method is deprecated and will be removed from pandas in a future version. Use pandas.concat instead.\n",
      "  self._data = self._data.append(res)\n",
      "/Users/Kobi/Documents/Research/summit/summit/experiment.py:92: FutureWarning: The frame.append method is deprecated and will be removed from pandas in a future version. Use pandas.concat instead.\n",
      "  self._data = self._data.append(res)\n",
      "/Users/Kobi/Documents/Research/summit/summit/experiment.py:92: FutureWarning: The frame.append method is deprecated and will be removed from pandas in a future version. Use pandas.concat instead.\n",
      "  self._data = self._data.append(res)\n",
      "/Users/Kobi/Documents/Research/summit/summit/experiment.py:92: FutureWarning: The frame.append method is deprecated and will be removed from pandas in a future version. Use pandas.concat instead.\n",
      "  self._data = self._data.append(res)\n",
      "/Users/Kobi/Documents/Research/summit/summit/experiment.py:92: FutureWarning: The frame.append method is deprecated and will be removed from pandas in a future version. Use pandas.concat instead.\n",
      "  self._data = self._data.append(res)\n",
      "/Users/Kobi/Documents/Research/summit/summit/strategies/cbbo.py:92: FutureWarning: The frame.append method is deprecated and will be removed from pandas in a future version. Use pandas.concat instead.\n",
      "  conditions = lhs.suggest_experiments(k)\n",
      "/Users/Kobi/Documents/Research/summit/summit/experiment.py:92: FutureWarning: The frame.append method is deprecated and will be removed from pandas in a future version. Use pandas.concat instead.\n",
      "  self._data = self._data.append(res)\n",
      "/Users/Kobi/Documents/Research/summit/summit/experiment.py:92: FutureWarning: The frame.append method is deprecated and will be removed from pandas in a future version. Use pandas.concat instead.\n",
      "  self._data = self._data.append(res)\n",
      "/Users/Kobi/Documents/Research/summit/summit/experiment.py:92: FutureWarning: The frame.append method is deprecated and will be removed from pandas in a future version. Use pandas.concat instead.\n",
      "  self._data = self._data.append(res)\n",
      "/Users/Kobi/Documents/Research/summit/summit/experiment.py:92: FutureWarning: The frame.append method is deprecated and will be removed from pandas in a future version. Use pandas.concat instead.\n",
      "  self._data = self._data.append(res)\n",
      "/Users/Kobi/Documents/Research/summit/summit/experiment.py:92: FutureWarning: The frame.append method is deprecated and will be removed from pandas in a future version. Use pandas.concat instead.\n",
      "  self._data = self._data.append(res)\n",
      "/Users/Kobi/Documents/Research/summit/summit/strategies/cbbo.py:92: FutureWarning: The frame.append method is deprecated and will be removed from pandas in a future version. Use pandas.concat instead.\n",
      "  conditions = lhs.suggest_experiments(k)\n",
      "/Users/Kobi/Documents/Research/summit/summit/experiment.py:92: FutureWarning: The frame.append method is deprecated and will be removed from pandas in a future version. Use pandas.concat instead.\n",
      "  self._data = self._data.append(res)\n",
      "/Users/Kobi/Documents/Research/summit/summit/experiment.py:92: FutureWarning: The frame.append method is deprecated and will be removed from pandas in a future version. Use pandas.concat instead.\n",
      "  self._data = self._data.append(res)\n",
      "/Users/Kobi/Documents/Research/summit/summit/experiment.py:92: FutureWarning: The frame.append method is deprecated and will be removed from pandas in a future version. Use pandas.concat instead.\n",
      "  self._data = self._data.append(res)\n",
      "/Users/Kobi/Documents/Research/summit/summit/experiment.py:92: FutureWarning: The frame.append method is deprecated and will be removed from pandas in a future version. Use pandas.concat instead.\n",
      "  self._data = self._data.append(res)\n",
      "/Users/Kobi/Documents/Research/summit/summit/experiment.py:92: FutureWarning: The frame.append method is deprecated and will be removed from pandas in a future version. Use pandas.concat instead.\n",
      "  self._data = self._data.append(res)\n",
      "/Users/Kobi/Documents/Research/summit/summit/strategies/cbbo.py:92: FutureWarning: The frame.append method is deprecated and will be removed from pandas in a future version. Use pandas.concat instead.\n",
      "  conditions = lhs.suggest_experiments(k)\n",
      "/Users/Kobi/Documents/Research/summit/summit/experiment.py:92: FutureWarning: The frame.append method is deprecated and will be removed from pandas in a future version. Use pandas.concat instead.\n",
      "  self._data = self._data.append(res)\n",
      "/Users/Kobi/Documents/Research/summit/summit/experiment.py:92: FutureWarning: The frame.append method is deprecated and will be removed from pandas in a future version. Use pandas.concat instead.\n",
      "  self._data = self._data.append(res)\n",
      "/Users/Kobi/Documents/Research/summit/summit/experiment.py:92: FutureWarning: The frame.append method is deprecated and will be removed from pandas in a future version. Use pandas.concat instead.\n",
      "  self._data = self._data.append(res)\n",
      "/Users/Kobi/Documents/Research/summit/summit/experiment.py:92: FutureWarning: The frame.append method is deprecated and will be removed from pandas in a future version. Use pandas.concat instead.\n",
      "  self._data = self._data.append(res)\n",
      "/Users/Kobi/Documents/Research/summit/summit/experiment.py:92: FutureWarning: The frame.append method is deprecated and will be removed from pandas in a future version. Use pandas.concat instead.\n",
      "  self._data = self._data.append(res)\n",
      "/Users/Kobi/Documents/Research/summit/summit/strategies/cbbo.py:92: FutureWarning: The frame.append method is deprecated and will be removed from pandas in a future version. Use pandas.concat instead.\n",
      "  conditions = lhs.suggest_experiments(k)\n",
      "/Users/Kobi/Documents/Research/summit/summit/experiment.py:92: FutureWarning: The frame.append method is deprecated and will be removed from pandas in a future version. Use pandas.concat instead.\n",
      "  self._data = self._data.append(res)\n",
      "/Users/Kobi/Documents/Research/summit/summit/experiment.py:92: FutureWarning: The frame.append method is deprecated and will be removed from pandas in a future version. Use pandas.concat instead.\n",
      "  self._data = self._data.append(res)\n",
      "/Users/Kobi/Documents/Research/summit/summit/experiment.py:92: FutureWarning: The frame.append method is deprecated and will be removed from pandas in a future version. Use pandas.concat instead.\n",
      "  self._data = self._data.append(res)\n",
      "/Users/Kobi/Documents/Research/summit/summit/experiment.py:92: FutureWarning: The frame.append method is deprecated and will be removed from pandas in a future version. Use pandas.concat instead.\n",
      "  self._data = self._data.append(res)\n",
      "/Users/Kobi/Documents/Research/summit/summit/experiment.py:92: FutureWarning: The frame.append method is deprecated and will be removed from pandas in a future version. Use pandas.concat instead.\n",
      "  self._data = self._data.append(res)\n",
      "/Users/Kobi/Documents/Research/summit/summit/strategies/cbbo.py:92: FutureWarning: The frame.append method is deprecated and will be removed from pandas in a future version. Use pandas.concat instead.\n",
      "  conditions = lhs.suggest_experiments(k)\n",
      "/Users/Kobi/Documents/Research/summit/summit/experiment.py:92: FutureWarning: The frame.append method is deprecated and will be removed from pandas in a future version. Use pandas.concat instead.\n",
      "  self._data = self._data.append(res)\n",
      "/Users/Kobi/Documents/Research/summit/summit/experiment.py:92: FutureWarning: The frame.append method is deprecated and will be removed from pandas in a future version. Use pandas.concat instead.\n",
      "  self._data = self._data.append(res)\n",
      "/Users/Kobi/Documents/Research/summit/summit/experiment.py:92: FutureWarning: The frame.append method is deprecated and will be removed from pandas in a future version. Use pandas.concat instead.\n",
      "  self._data = self._data.append(res)\n",
      "/Users/Kobi/Documents/Research/summit/summit/experiment.py:92: FutureWarning: The frame.append method is deprecated and will be removed from pandas in a future version. Use pandas.concat instead.\n",
      "  self._data = self._data.append(res)\n",
      "/Users/Kobi/Documents/Research/summit/summit/experiment.py:92: FutureWarning: The frame.append method is deprecated and will be removed from pandas in a future version. Use pandas.concat instead.\n",
      "  self._data = self._data.append(res)\n",
      "/Users/Kobi/Documents/Research/summit/summit/strategies/cbbo.py:92: FutureWarning: The frame.append method is deprecated and will be removed from pandas in a future version. Use pandas.concat instead.\n",
      "  conditions = lhs.suggest_experiments(k)\n",
      "/Users/Kobi/Documents/Research/summit/summit/experiment.py:92: FutureWarning: The frame.append method is deprecated and will be removed from pandas in a future version. Use pandas.concat instead.\n",
      "  self._data = self._data.append(res)\n",
      "/Users/Kobi/Documents/Research/summit/summit/experiment.py:92: FutureWarning: The frame.append method is deprecated and will be removed from pandas in a future version. Use pandas.concat instead.\n",
      "  self._data = self._data.append(res)\n",
      "/Users/Kobi/Documents/Research/summit/summit/experiment.py:92: FutureWarning: The frame.append method is deprecated and will be removed from pandas in a future version. Use pandas.concat instead.\n",
      "  self._data = self._data.append(res)\n",
      "/Users/Kobi/Documents/Research/summit/summit/experiment.py:92: FutureWarning: The frame.append method is deprecated and will be removed from pandas in a future version. Use pandas.concat instead.\n",
      "  self._data = self._data.append(res)\n",
      "/Users/Kobi/Documents/Research/summit/summit/experiment.py:92: FutureWarning: The frame.append method is deprecated and will be removed from pandas in a future version. Use pandas.concat instead.\n",
      "  self._data = self._data.append(res)\n",
      "/Users/Kobi/Documents/Research/summit/summit/strategies/cbbo.py:92: FutureWarning: The frame.append method is deprecated and will be removed from pandas in a future version. Use pandas.concat instead.\n",
      "  conditions = lhs.suggest_experiments(k)\n",
      "/Users/Kobi/Documents/Research/summit/summit/experiment.py:92: FutureWarning: The frame.append method is deprecated and will be removed from pandas in a future version. Use pandas.concat instead.\n",
      "  self._data = self._data.append(res)\n",
      "/Users/Kobi/Documents/Research/summit/summit/experiment.py:92: FutureWarning: The frame.append method is deprecated and will be removed from pandas in a future version. Use pandas.concat instead.\n",
      "  self._data = self._data.append(res)\n",
      "/Users/Kobi/Documents/Research/summit/summit/experiment.py:92: FutureWarning: The frame.append method is deprecated and will be removed from pandas in a future version. Use pandas.concat instead.\n",
      "  self._data = self._data.append(res)\n",
      "/Users/Kobi/Documents/Research/summit/summit/experiment.py:92: FutureWarning: The frame.append method is deprecated and will be removed from pandas in a future version. Use pandas.concat instead.\n",
      "  self._data = self._data.append(res)\n",
      "/Users/Kobi/Documents/Research/summit/summit/experiment.py:92: FutureWarning: The frame.append method is deprecated and will be removed from pandas in a future version. Use pandas.concat instead.\n",
      "  self._data = self._data.append(res)\n"
     ]
    },
    {
     "ename": "NameError",
     "evalue": "name 'np' is not defined",
     "output_type": "error",
     "traceback": [
      "\u001b[0;31m---------------------------------------------------------------------------\u001b[0m",
      "\u001b[0;31mNameError\u001b[0m                                 Traceback (most recent call last)",
      "Input \u001b[0;32mIn [20]\u001b[0m, in \u001b[0;36m<cell line: 22>\u001b[0;34m()\u001b[0m\n\u001b[1;32m     19\u001b[0m \u001b[38;5;28;01melse\u001b[39;00m:\n\u001b[1;32m     20\u001b[0m     fbest \u001b[38;5;241m=\u001b[39m data[objective\u001b[38;5;241m.\u001b[39mname]\u001b[38;5;241m.\u001b[39mmin()\n\u001b[0;32m---> 22\u001b[0m fbest \u001b[38;5;241m=\u001b[39m \u001b[43mnp\u001b[49m\u001b[38;5;241m.\u001b[39maround(fbest, decimals\u001b[38;5;241m=\u001b[39m\u001b[38;5;241m2\u001b[39m)\n\u001b[1;32m     23\u001b[0m \u001b[38;5;28mprint\u001b[39m(\u001b[38;5;124mf\u001b[39m\u001b[38;5;124m\"\u001b[39m\u001b[38;5;124mNumber of experiments: \u001b[39m\u001b[38;5;132;01m{\u001b[39;00mdata\u001b[38;5;241m.\u001b[39mshape[\u001b[38;5;241m0\u001b[39m]\u001b[38;5;132;01m}\u001b[39;00m\u001b[38;5;124m\"\u001b[39m)\n\u001b[1;32m     24\u001b[0m \u001b[38;5;66;03m# Extrema of test function without constraint: glob_min = -3.86 at\u001b[39;00m\n",
      "\u001b[0;31mNameError\u001b[0m: name 'np' is not defined"
     ]
    }
   ],
   "source": [
    "hartmann3D = Hartmann3D(maximize=maximize, constraints=constraint)\n",
    "\n",
    "strategy = CBBO(domain=hartmann3D.domain)\n",
    "# batch_size = 1\n",
    "\n",
    "hartmann3D.reset()\n",
    "r = Runner(\n",
    "    strategy=strategy,\n",
    "    experiment=hartmann3D,\n",
    "    batch_size=batch_size,\n",
    "    max_iterations=max_num_exp // batch_size,\n",
    ")\n",
    "r.run()\n",
    "\n",
    "objective = hartmann3D.domain.output_variables[0]\n",
    "data = hartmann3D.data\n",
    "if objective.maximize:\n",
    "    fbest = data[objective.name].max()\n",
    "else:\n",
    "    fbest = data[objective.name].min()\n",
    "\n",
    "fbest = np.around(fbest, decimals=2)\n",
    "print(f\"Number of experiments: {data.shape[0]}\")\n",
    "# Extrema of test function without constraint: glob_min = -3.86 at\n",
    "if maximize:\n",
    "    assert fbest >= 3.84 and fbest <= 3.87\n",
    "else:\n",
    "    assert fbest <= -3.84 and fbest >= -3.87\n",
    "\n",
    "# Test saving and loading\n",
    "strategy.save(\"cbbo_test.json\")\n",
    "os.remove(\"cbbo_test.json\")\n",
    "\n",
    "if plot:\n",
    "    fig, ax = hartmann3D.plot()\n",
    "    plt.show()"
   ]
  },
  {
   "cell_type": "code",
   "execution_count": 21,
   "id": "14e1fed7-967c-4ed4-bef8-21e9388aaa77",
   "metadata": {},
   "outputs": [
    {
     "data": {
      "text/plain": [
       "Text(0, 0.5, 'y')"
      ]
     },
     "execution_count": 21,
     "metadata": {},
     "output_type": "execute_result"
    },
    {
     "data": {
      "image/png": "[encoded data removed]",
      "text/plain": [
       "<Figure size 432x288 with 1 Axes>"
      ]
     },
     "metadata": {
      "needs_background": "light"
     },
     "output_type": "display_data"
    }
   ],
   "source": [
    "plt.plot(hartmann3D.data[\"y\"])\n",
    "plt.xlabel(\"experiments\")\n",
    "plt.ylabel(\"y\")"
   ]
  },
  {
   "cell_type": "code",
   "execution_count": 16,
   "id": "4292963c-e07a-4dc4-a7a7-b0671a2b29e0",
   "metadata": {},
   "outputs": [
    {
     "data": {
      "text/plain": [
       "3.8079262070443423"
      ]
     },
     "execution_count": 16,
     "metadata": {},
     "output_type": "execute_result"
    }
   ],
   "source": [
    "hartmann3D.data[\"y\"].max()"
   ]
  },
  {
   "cell_type": "code",
   "execution_count": null,
   "id": "d8ef2c38-ac00-40e8-b72e-89599737475c",
   "metadata": {},
   "outputs": [],
   "source": []
  }
 ],
 "metadata": {
  "kernelspec": {
   "display_name": "Summit",
   "language": "python",
   "name": "summit"
  },
  "language_info": {
   "codemirror_mode": {
    "name": "ipython",
    "version": 3
   },
   "file_extension": ".py",
   "mimetype": "text/x-python",
   "name": "python",
   "nbconvert_exporter": "python",
   "pygments_lexer": "ipython3",
   "version": "3.8.13"
  }
 },
 "nbformat": 4,
 "nbformat_minor": 5
}
