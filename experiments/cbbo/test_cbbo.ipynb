{
 "cells": [
  {
   "cell_type": "code",
   "execution_count": 1,
   "id": "16a0d36c-5a7b-446a-a6c5-4a21be5d512e",
   "metadata": {},
   "outputs": [],
   "source": [
    "%load_ext autoreload\n",
    "%autoreload 2"
   ]
  },
  {
   "cell_type": "code",
   "execution_count": 2,
   "id": "fbd78030-94eb-40b8-a652-c973bea8a6ed",
   "metadata": {},
   "outputs": [
    {
     "name": "stderr",
     "output_type": "stream",
     "text": [
      "/Users/Kobi/Library/Caches/pypoetry/virtualenvs/summit-TfmmV07p-py3.8/lib/python3.8/site-packages/tqdm/auto.py:22: TqdmWarning: IProgress not found. Please update jupyter and ipywidgets. See https://ipywidgets.readthedocs.io/en/stable/user_install.html\n",
      "  from .autonotebook import tqdm as notebook_tqdm\n"
     ]
    }
   ],
   "source": [
    "from summit import *\n",
    "import matplotlib.pyplot as plt"
   ]
  },
  {
   "cell_type": "code",
   "execution_count": 4,
   "id": "1c7a3b89-2c47-4051-a043-be5a1a67883e",
   "metadata": {},
   "outputs": [],
   "source": [
    "max_num_exp=30\n",
    "batch_size=5\n",
    "maximize=True\n",
    "constraint=False\n",
    "plot=True"
   ]
  },
  {
   "cell_type": "markdown",
   "id": "e95148b8-f885-4000-b92c-07f47fac40d4",
   "metadata": {},
   "source": [
    "Remember to change spectral samples back to 1500"
   ]
  },
  {
   "cell_type": "code",
   "execution_count": null,
   "id": "388d5543-e4b6-4ef2-93d1-57a5ad1d6596",
   "metadata": {},
   "outputs": [
    {
     "data": {
      "text/html": [
       "\n",
       "    <div>\n",
       "        <style>\n",
       "            /* Turns off some styling */\n",
       "            progress {\n",
       "                /* gets rid of default border in Firefox and Opera. */\n",
       "                border: none;\n",
       "                /* Needs to be in here for Safari polyfill so background images work as expected. */\n",
       "                background-size: auto;\n",
       "            }\n",
       "            .progress-bar-interrupted, .progress-bar-interrupted::-webkit-progress-bar {\n",
       "                background: #F44336;\n",
       "            }\n",
       "        </style>\n",
       "      <progress value='1' class='' max='6' style='width:300px; height:20px; vertical-align: middle;'></progress>\n",
       "      16.67% [1/6 00:00<00:00]\n",
       "    </div>\n",
       "    "
      ],
      "text/plain": [
       "<IPython.core.display.HTML object>"
      ]
     },
     "metadata": {},
     "output_type": "display_data"
    },
    {
     "name": "stderr",
     "output_type": "stream",
     "text": [
      "/Users/Kobi/Documents/Research/summit/summit/experiment.py:92: FutureWarning: The frame.append method is deprecated and will be removed from pandas in a future version. Use pandas.concat instead.\n",
      "  self._data = self._data.append(res)\n",
      "/Users/Kobi/Documents/Research/summit/summit/experiment.py:92: FutureWarning: The frame.append method is deprecated and will be removed from pandas in a future version. Use pandas.concat instead.\n",
      "  self._data = self._data.append(res)\n",
      "/Users/Kobi/Documents/Research/summit/summit/experiment.py:92: FutureWarning: The frame.append method is deprecated and will be removed from pandas in a future version. Use pandas.concat instead.\n",
      "  self._data = self._data.append(res)\n",
      "/Users/Kobi/Documents/Research/summit/summit/experiment.py:92: FutureWarning: The frame.append method is deprecated and will be removed from pandas in a future version. Use pandas.concat instead.\n",
      "  self._data = self._data.append(res)\n",
      "/Users/Kobi/Documents/Research/summit/summit/experiment.py:92: FutureWarning: The frame.append method is deprecated and will be removed from pandas in a future version. Use pandas.concat instead.\n",
      "  self._data = self._data.append(res)\n"
     ]
    },
    {
     "name": "stdout",
     "output_type": "stream",
     "text": [
      "> \u001b[0;32m/Users/Kobi/Documents/Research/summit/summit/strategies/cbbo.py\u001b[0m(147)\u001b[0;36msuggest_experiments\u001b[0;34m()\u001b[0m\n",
      "\u001b[0;32m    145 \u001b[0;31m\u001b[0;34m\u001b[0m\u001b[0m\n",
      "\u001b[0m\u001b[0;32m    146 \u001b[0;31m        \u001b[0mpdb\u001b[0m\u001b[0;34m.\u001b[0m\u001b[0mset_trace\u001b[0m\u001b[0;34m(\u001b[0m\u001b[0;34m)\u001b[0m\u001b[0;34m\u001b[0m\u001b[0;34m\u001b[0m\u001b[0m\n",
      "\u001b[0m\u001b[0;32m--> 147 \u001b[0;31m        \u001b[0mm\u001b[0m \u001b[0;34m=\u001b[0m \u001b[0mlen\u001b[0m\u001b[0;34m(\u001b[0m\u001b[0mself\u001b[0m\u001b[0;34m.\u001b[0m\u001b[0mdomain\u001b[0m\u001b[0;34m.\u001b[0m\u001b[0minput_variables\u001b[0m\u001b[0;34m)\u001b[0m\u001b[0;34m\u001b[0m\u001b[0;34m\u001b[0m\u001b[0m\n",
      "\u001b[0m\u001b[0;32m    148 \u001b[0;31m        \u001b[0mres\u001b[0m \u001b[0;34m=\u001b[0m \u001b[0moptimize\u001b[0m\u001b[0;34m.\u001b[0m\u001b[0mbrute\u001b[0m\u001b[0;34m(\u001b[0m\u001b[0mf_opt\u001b[0m\u001b[0;34m,\u001b[0m \u001b[0mranges\u001b[0m\u001b[0;34m=\u001b[0m\u001b[0mbounds\u001b[0m\u001b[0;34m,\u001b[0m \u001b[0margs\u001b[0m\u001b[0;34m=\u001b[0m\u001b[0;34m(\u001b[0m\u001b[0mmodels\u001b[0m\u001b[0;34m,\u001b[0m \u001b[0mm\u001b[0m\u001b[0;34m,\u001b[0m \u001b[0mq\u001b[0m\u001b[0;34m)\u001b[0m\u001b[0;34m,\u001b[0m \u001b[0mNs\u001b[0m\u001b[0;34m=\u001b[0m\u001b[0;36m10\u001b[0m\u001b[0;34m)\u001b[0m\u001b[0;34m\u001b[0m\u001b[0;34m\u001b[0m\u001b[0m\n",
      "\u001b[0m\u001b[0;32m    149 \u001b[0;31m        \u001b[0mresults\u001b[0m \u001b[0;34m=\u001b[0m \u001b[0mres\u001b[0m\u001b[0;34m.\u001b[0m\u001b[0mreshape\u001b[0m\u001b[0;34m(\u001b[0m\u001b[0;34m(\u001b[0m\u001b[0mq\u001b[0m\u001b[0;34m,\u001b[0m \u001b[0mm\u001b[0m\u001b[0;34m)\u001b[0m\u001b[0;34m)\u001b[0m\u001b[0;34m\u001b[0m\u001b[0;34m\u001b[0m\u001b[0m\n",
      "\u001b[0m\n"
     ]
    },
    {
     "name": "stdin",
     "output_type": "stream",
     "text": [
      "ipdb>  bounds\n"
     ]
    },
    {
     "name": "stdout",
     "output_type": "stream",
     "text": [
      "array([-1.76776695,  1.76776695, -1.76776695,  1.76776695, -1.76776695,\n",
      "        1.76776695, -1.76776695,  1.76776695, -1.76776695,  1.76776695,\n",
      "       -1.76776695,  1.76776695, -1.76776695,  1.76776695, -1.76776695,\n",
      "        1.76776695, -1.76776695,  1.76776695, -1.76776695,  1.76776695,\n",
      "       -1.76776695,  1.76776695, -1.76776695,  1.76776695, -1.76776695,\n",
      "        1.76776695, -1.76776695,  1.76776695, -1.76776695,  1.76776695])\n"
     ]
    },
    {
     "name": "stdin",
     "output_type": "stream",
     "text": [
      "ipdb>  len(bounds)\n"
     ]
    },
    {
     "name": "stdout",
     "output_type": "stream",
     "text": [
      "30\n"
     ]
    },
    {
     "name": "stdin",
     "output_type": "stream",
     "text": [
      "ipdb>  len(self._get_bounds() * q)\n"
     ]
    },
    {
     "name": "stdout",
     "output_type": "stream",
     "text": [
      "15\n"
     ]
    }
   ],
   "source": [
    "hartmann3D = Hartmann3D(maximize=maximize, constraints=constraint)\n",
    "\n",
    "strategy = CBBO(domain=hartmann3D.domain)\n",
    "# batch_size = 1\n",
    "\n",
    "hartmann3D.reset()\n",
    "r = Runner(\n",
    "    strategy=strategy,\n",
    "    experiment=hartmann3D,\n",
    "    batch_size=batch_size,\n",
    "    max_iterations=max_num_exp // batch_size,\n",
    ")\n",
    "r.run()\n",
    "\n",
    "objective = hartmann3D.domain.output_variables[0]\n",
    "data = hartmann3D.data\n",
    "if objective.maximize:\n",
    "    fbest = data[objective.name].max()\n",
    "else:\n",
    "    fbest = data[objective.name].min()\n",
    "\n",
    "fbest = np.around(fbest, decimals=2)\n",
    "print(f\"Number of experiments: {data.shape[0]}\")\n",
    "# Extrema of test function without constraint: glob_min = -3.86 at\n",
    "if maximize:\n",
    "    assert fbest >= 3.84 and fbest <= 3.87\n",
    "else:\n",
    "    assert fbest <= -3.84 and fbest >= -3.87\n",
    "\n",
    "# Test saving and loading\n",
    "strategy.save(\"cbbo_test.json\")\n",
    "os.remove(\"cbbo_test.json\")\n",
    "\n",
    "if plot:\n",
    "    fig, ax = hartmann3D.plot()\n",
    "    plt.show()"
   ]
  },
  {
   "cell_type": "code",
   "execution_count": null,
   "id": "14e1fed7-967c-4ed4-bef8-21e9388aaa77",
   "metadata": {},
   "outputs": [],
   "source": []
  }
 ],
 "metadata": {
  "kernelspec": {
   "display_name": "Summit",
   "language": "python",
   "name": "summit"
  },
  "language_info": {
   "codemirror_mode": {
    "name": "ipython",
    "version": 3
   },
   "file_extension": ".py",
   "mimetype": "text/x-python",
   "name": "python",
   "nbconvert_exporter": "python",
   "pygments_lexer": "ipython3",
   "version": "3.8.13"
  }
 },
 "nbformat": 4,
 "nbformat_minor": 5
}
